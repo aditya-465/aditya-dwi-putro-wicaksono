{
  "nbformat": 4,
  "nbformat_minor": 0,
  "metadata": {
    "colab": {
      "private_outputs": true,
      "provenance": [],
      "include_colab_link": true
    },
    "kernelspec": {
      "name": "python3",
      "display_name": "Python 3"
    },
    "language_info": {
      "name": "python"
    }
  },
  "cells": [
    {
      "cell_type": "markdown",
      "metadata": {
        "id": "view-in-github",
        "colab_type": "text"
      },
      "source": [
        "<a href=\"https://colab.research.google.com/github/aditya-465/aditya-dwi-putro-wicaksono/blob/master/Persamaan_Diferensial_Biasa_2_ADP.ipynb\" target=\"_parent\"><img src=\"https://colab.research.google.com/assets/colab-badge.svg\" alt=\"Open In Colab\"/></a>"
      ]
    },
    {
      "cell_type": "markdown",
      "source": [
        "# Runge-Kutta Orde ke 4\n",
        "\n",
        "persamaan\n",
        "$$\n",
        "\\frac{dy}{dx}=\\frac{y}{2x+1}\n",
        "$$\n",
        "\n",
        "solusi:\n",
        "$$\n",
        "y=\\sqrt{2x+1}\n",
        "$$"
      ],
      "metadata": {
        "id": "hUKGiYLIblV5"
      }
    },
    {
      "cell_type": "code",
      "execution_count": null,
      "metadata": {
        "id": "QZF-ZZuuatTF"
      },
      "outputs": [],
      "source": [
        "import numpy as np\n",
        "import matplotlib.pyplot as plt\n",
        "%matplotlib inline"
      ]
    },
    {
      "cell_type": "code",
      "source": [
        "x0=0\n",
        "y0=1\n",
        "dx=.05\n",
        "\n",
        "def z(x,y):\n",
        "  y=y/(2*x+1)\n",
        "  return y"
      ],
      "metadata": {
        "id": "wW2ETDQFbGlQ"
      },
      "execution_count": null,
      "outputs": []
    },
    {
      "cell_type": "code",
      "source": [
        "x=dx*np.arange(11)+x0\n",
        "y=np.zeros(11)\n",
        "y[0]=y0\n",
        "h=dx\n",
        "\n",
        "for k in range(0,10):\n",
        "  rk1=z(x[k],y[k])\n",
        "  rk2=z(x[k]+h/2,y[k]+h*rk1/2)\n",
        "  rk3=z(x[k]+h/2,y[k]+h*rk2/2)\n",
        "  rk4=z(x[k]+h,y[k]+h*rk3)\n",
        "  y[k+1]=y[k]+(h/6)*(rk1+2*rk2+2*rk3+rk4)\n",
        "  print('x=',x[k+1],'y=',y[k+1])"
      ],
      "metadata": {
        "id": "Q3-hwEvFbOTt"
      },
      "execution_count": null,
      "outputs": []
    },
    {
      "cell_type": "code",
      "source": [
        "yeksak=np.sqrt(2*x+1)\n",
        "plt.plot(x,y,'or')\n",
        "plt.plot(x,yeksak,'-b')\n",
        "plt.xlabel('$x$')\n",
        "plt.ylabel('$y$')\n",
        "plt.legend(['Metode Runge-Kutta','Eksak'])\n",
        "plt.show()"
      ],
      "metadata": {
        "id": "oznMVC2gb_Iy"
      },
      "execution_count": null,
      "outputs": []
    },
    {
      "cell_type": "markdown",
      "source": [
        "# Runge-Kutta Orde 4\n",
        "selesaikan persamaan berikut!\n",
        "$$\n",
        "\\frac{dy}{dx}=-xy\n",
        "$$\n",
        "solusi\n",
        "$$\n",
        "y=e^{-\\frac{x^{2}}{2}+c_1}\n",
        "$$"
      ],
      "metadata": {
        "id": "NUe5g04Ih07m"
      }
    },
    {
      "cell_type": "code",
      "source": [
        "i0=0\n",
        "j0=1\n",
        "di=.2\n",
        "\n",
        "def z(i,j):\n",
        "  j=-i*j\n",
        "  return j\n",
        "\n",
        "i=di*np.arange(11)+i0\n",
        "j=np.zeros(11)\n",
        "j[0]=j0\n",
        "h=di\n",
        "\n",
        "for m in range(0,10):\n",
        "  rk1=z(i[m],j[m])\n",
        "  rk2=z(i[m]+h/2,j[m]+h*rk1/2)\n",
        "  rk3=z(i[m]+h/2,j[m]+h*rk2/2)\n",
        "  rk4=z(i[m]+h,j[m]+h*rk3)\n",
        "  j[m+1]=j[m]+(h/6)*(rk1+2*rk2+2*rk3+rk4)\n",
        "  print('x=',i[m+1],'y=',j[m+1])"
      ],
      "metadata": {
        "id": "J4yuGwjQhwhq"
      },
      "execution_count": null,
      "outputs": []
    },
    {
      "cell_type": "code",
      "source": [
        "jeksak=np.exp(-(i**2)/2)\n",
        "plt.plot(i,j,'or')\n",
        "plt.plot(i,jeksak,'-b')\n",
        "plt.xlabel('$x$')\n",
        "plt.ylabel('$y$')\n",
        "plt.legend(['Metode RK4','Eksak'])\n",
        "plt.show()"
      ],
      "metadata": {
        "id": "VIbeh1rSomIC"
      },
      "execution_count": null,
      "outputs": []
    },
    {
      "cell_type": "markdown",
      "source": [
        "persamaan\n",
        "$$\n",
        "\\frac{dy}{dx}=x^2+2x+3\n",
        "$$\n",
        "solusinya:\n",
        "$$\n",
        "y=\\frac{1}{3}x^3+x^2+3x\n",
        "$$"
      ],
      "metadata": {
        "id": "SMwpUl6rOpg8"
      }
    },
    {
      "cell_type": "code",
      "source": [
        "a0=0\n",
        "b0=1\n",
        "da=.2\n",
        "\n",
        "def f(a,b):\n",
        "  b=a**2+2*(a**2)+3\n",
        "  return b\n",
        "\n",
        "a=da*np.arange(11)+a0\n",
        "b=np.zeros(11)\n",
        "b[0]=b0\n",
        "\n",
        "for k in range(0,10):\n",
        "  b[k+1]=b[k]+da*f(a[k],b[k])  \n",
        "  print('x=',a[k+1],'y=',b[k+1])"
      ],
      "metadata": {
        "id": "0lyPQ3coOJCt"
      },
      "execution_count": null,
      "outputs": []
    },
    {
      "cell_type": "code",
      "source": [
        "beksak=(a**3)/3+a**2+3*a\n",
        "plt.plot(a,b,'or')\n",
        "plt.plot(a,beksak,'-b')\n",
        "plt.xlabel('$x$')\n",
        "plt.ylabel('$y$')\n",
        "plt.legend(['Metode Euler','Eksak'])\n",
        "plt.show()"
      ],
      "metadata": {
        "id": "gyxblleOOLAn"
      },
      "execution_count": null,
      "outputs": []
    }
  ]
}