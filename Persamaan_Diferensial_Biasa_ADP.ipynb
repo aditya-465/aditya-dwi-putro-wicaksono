{
  "nbformat": 4,
  "nbformat_minor": 0,
  "metadata": {
    "colab": {
      "private_outputs": true,
      "provenance": [],
      "include_colab_link": true
    },
    "kernelspec": {
      "name": "python3",
      "display_name": "Python 3"
    },
    "language_info": {
      "name": "python"
    }
  },
  "cells": [
    {
      "cell_type": "markdown",
      "metadata": {
        "id": "view-in-github",
        "colab_type": "text"
      },
      "source": [
        "<a href=\"https://colab.research.google.com/github/aditya-465/aditya-dwi-putro-wicaksono/blob/master/Persamaan_Diferensial_Biasa_ADP.ipynb\" target=\"_parent\"><img src=\"https://colab.research.google.com/assets/colab-badge.svg\" alt=\"Open In Colab\"/></a>"
      ]
    },
    {
      "cell_type": "markdown",
      "source": [
        "Euler\n",
        "$$\n",
        "\\frac{dy}{dx}=-y\n",
        "$$\n",
        "solusinya= $$y=e^{-x}$$"
      ],
      "metadata": {
        "id": "hUKGiYLIblV5"
      }
    },
    {
      "cell_type": "code",
      "execution_count": null,
      "metadata": {
        "id": "QZF-ZZuuatTF"
      },
      "outputs": [],
      "source": [
        "import numpy as np\n",
        "import matplotlib.pyplot as plt\n",
        "%matplotlib inline"
      ]
    },
    {
      "cell_type": "code",
      "source": [
        "x0=0\n",
        "y0=1\n",
        "dx=.2\n",
        "\n",
        "def f(x,y):\n",
        "  y=-y\n",
        "  return y"
      ],
      "metadata": {
        "id": "wW2ETDQFbGlQ"
      },
      "execution_count": null,
      "outputs": []
    },
    {
      "cell_type": "code",
      "source": [
        "x=dx*np.arange(11)+x0\n",
        "y=np.zeros(11)\n",
        "y[0]=y0\n",
        "\n",
        "for n in range(0,10):\n",
        "  y[n+1]=y[n]+dx*f(x[n],y[n])  \n",
        "  print('x=',x[n+1],'\\t','y=',y[n+1])"
      ],
      "metadata": {
        "id": "Q3-hwEvFbOTt"
      },
      "execution_count": null,
      "outputs": []
    },
    {
      "cell_type": "code",
      "source": [
        "yeksak=np.exp(-x)\n",
        "plt.plot(x,y,'or')\n",
        "plt.plot(x,yeksak,'-b')\n",
        "plt.xlabel('$x$')\n",
        "plt.ylabel('$y$')\n",
        "plt.legend(['Metode Euler','Eksak'])\n",
        "plt.show()"
      ],
      "metadata": {
        "id": "oznMVC2gb_Iy"
      },
      "execution_count": null,
      "outputs": []
    },
    {
      "cell_type": "markdown",
      "source": [
        "selesaikan persamaan berikut!\n",
        "$$\n",
        "\\frac{dy}{dx}=-xy\n",
        "$$\n",
        "solusi\n",
        "$$\n",
        "y=e^{-\\frac{x^{2}}{2}+c_1}\n",
        "$$"
      ],
      "metadata": {
        "id": "NUe5g04Ih07m"
      }
    },
    {
      "cell_type": "code",
      "source": [
        "i0=0\n",
        "j0=1\n",
        "di=.2\n",
        "\n",
        "def f(i,j):\n",
        "  j=-i*j\n",
        "  return j\n",
        "\n",
        "i=di*np.arange(11)+i0\n",
        "j=np.zeros(11)\n",
        "j[0]=j0\n",
        "\n",
        "for m in range(0,10):\n",
        "  j[m+1]=j[m]+di*f(i[m],j[m])  \n",
        "  print('x=',i[m+1],'y=',j[m+1])"
      ],
      "metadata": {
        "id": "J4yuGwjQhwhq"
      },
      "execution_count": null,
      "outputs": []
    },
    {
      "cell_type": "code",
      "source": [
        "jeksak=np.exp(-(i**2)/2)\n",
        "plt.plot(i,j,'or')\n",
        "plt.plot(i,jeksak,'-b')\n",
        "plt.xlabel('$x$')\n",
        "plt.ylabel('$y$')\n",
        "plt.legend(['Metode Euler','Eksak'])\n",
        "plt.show()"
      ],
      "metadata": {
        "id": "VIbeh1rSomIC"
      },
      "execution_count": null,
      "outputs": []
    },
    {
      "cell_type": "markdown",
      "source": [
        "# Heun\n",
        "persamaan\n",
        "$$\n",
        "\\frac{dy}{dx}=y+e^x\n",
        "$$\n",
        "solusi\n",
        "$$\n",
        "y=e^xx\n",
        "$$"
      ],
      "metadata": {
        "id": "_OWtRx3mag5D"
      }
    },
    {
      "cell_type": "code",
      "source": [
        "import numpy as np\n",
        "import matplotlib.pyplot as plt\n",
        "%matplotlib inline\n",
        "\n",
        "heunx0=0\n",
        "heuny0=1\n",
        "heundx=0.02\n",
        "\n",
        "def funct(heunx,heuny):\n",
        "  heuny=heuny+np.exp(heunx)\n",
        "  return heuny\n",
        "\n",
        "heunx=heundx*np.arange(111)+heunx0\n",
        "heuny=np.zeros(111)\n",
        "heuny[0]=heuny0\n",
        "\n",
        "for iter in range(0,110):\n",
        "  heun=heuny[iter]+heundx*funct(heunx[iter],heuny[iter])  \n",
        "  heuny[iter+1]=heuny[iter]+0.5*heundx*(funct(heunx[iter],heuny[iter])+funct(heunx[iter+1],heun))\n",
        "  print('x=',heunx[iter+1],'y=',heuny[iter+1])"
      ],
      "metadata": {
        "id": "8FhuA4Idap4Z"
      },
      "execution_count": null,
      "outputs": []
    },
    {
      "cell_type": "code",
      "source": [
        "heuneksak=np.exp(heunx)*heunx+np.exp(heunx)\n",
        "plt.plot(heunx,heuny,'or')\n",
        "plt.plot(heunx,heuneksak,'-b')\n",
        "plt.xlabel('$x$')\n",
        "plt.ylabel('$y$')\n",
        "plt.legend(['Metode Heun','Eksak'])\n",
        "plt.figure(figsize=(20, 10))\n",
        "plt.show()"
      ],
      "metadata": {
        "id": "uInonDtcdTeH"
      },
      "execution_count": null,
      "outputs": []
    },
    {
      "cell_type": "markdown",
      "source": [
        "HEUN I Wayan"
      ],
      "metadata": {
        "id": "RQqVBlYXn5SA"
      }
    },
    {
      "cell_type": "code",
      "source": [
        "import numpy as np\n",
        "import matplotlib.pyplot as plt\n",
        "%matplotlib inline\n",
        "\n",
        "heunx0=0\n",
        "heuny0=1\n",
        "heundx=0.02\n",
        "\n",
        "x=dx*np.arange(11) + x0\n",
        "y=np.zeros (11)\n",
        "y[0] = y0\n",
        "\n",
        "#Iterasi Heun\n",
        "for n in range(0,10) :\n",
        "  z = y[n] +dx*f(x[n] , y[n])\n",
        "  y[n+1] = y[n] + 0.5*dx*(f(x[n] , y[n]) + f (x[n+1] , z))\n",
        "\n",
        "  #Cetak hasil\n",
        "  print(x[n+1] ,  y[n+1])\n",
        "\n",
        "heuneksak=np.exp(heunx)*heunx+np.exp(heunx)\n",
        "plt.plot(heunx,heuny,'or')\n",
        "plt.plot(heunx,heuneksak,'-b')\n",
        "plt.xlabel('$x$')\n",
        "plt.ylabel('$y$')\n",
        "plt.legend(['Metode Heun','Eksak'])\n",
        "plt.figure(figsize=(20, 10))\n",
        "plt.show()"
      ],
      "metadata": {
        "id": "NcApvt-Tn3sq"
      },
      "execution_count": null,
      "outputs": []
    },
    {
      "cell_type": "code",
      "source": [
        "heuneksak=np.exp(heunx)*heunx+np.exp(heunx)\n",
        "plt.plot(heunx,heuny,'or')\n",
        "plt.plot(heunx,heuneksak,'-b')\n",
        "plt.xlabel('$x$')\n",
        "plt.ylabel('$y$')\n",
        "plt.legend(['Metode Heun','Eksak'])\n",
        "plt.figure(figsize=(20, 10))\n",
        "plt.show()"
      ],
      "metadata": {
        "id": "5TN1BVGiq3CZ"
      },
      "execution_count": null,
      "outputs": []
    },
    {
      "cell_type": "markdown",
      "source": [
        "# Runge-Kutta Orde 4\n",
        "\n",
        "persamaan\n",
        "$$\n",
        "\\frac{dy}{dx}=y+e^x\n",
        "$$\n",
        "solusi\n",
        "$$\n",
        "y=e^xx\n",
        "$$"
      ],
      "metadata": {
        "id": "8rMv8R_0Wt-W"
      }
    },
    {
      "cell_type": "code",
      "source": [
        "import numpy as np\n",
        "import matplotlib.pyplot as plt\n",
        "%matplotlib inline\n",
        "\n",
        "a0=0\n",
        "b0=1\n",
        "da=.02\n",
        "\n",
        "def z(a,b):\n",
        "  b=b+np.exp(a)\n",
        "  return b\n",
        "\n",
        "a=da*np.arange(111)+a0\n",
        "b=np.zeros(111)\n",
        "b[0]=b0\n",
        "h=da\n",
        "\n",
        "for k in range(0,110):\n",
        "  rk1=z(a[k],b[k])\n",
        "  rk2=z(a[k]+h/2,b[k]+h*rk1/2)\n",
        "  rk3=z(a[k]+h/2,b[k]+h*rk2/2)\n",
        "  rk4=z(a[k]+h,b[k]+h*rk3)\n",
        "  b[k+1]=b[k]+(h/6)*(rk1+2*rk2+2*rk3+rk4)\n",
        "  print('x=',a[k+1],'y=',b[k+1])"
      ],
      "metadata": {
        "id": "wI7am-GtWuon"
      },
      "execution_count": null,
      "outputs": []
    },
    {
      "cell_type": "code",
      "source": [
        "beksak=np.exp(a)*a+np.exp(a)\n",
        "plt.plot(a,b,'or')\n",
        "plt.plot(a,beksak,'-b')\n",
        "plt.xlabel('$x$')\n",
        "plt.ylabel('$y$')\n",
        "plt.legend(['Metode RK4','Eksak'])\n",
        "plt.figure(figsize=(20, 10))\n",
        "plt.show()"
      ],
      "metadata": {
        "id": "45O5CK6AWvAT"
      },
      "execution_count": null,
      "outputs": []
    }
  ]
}